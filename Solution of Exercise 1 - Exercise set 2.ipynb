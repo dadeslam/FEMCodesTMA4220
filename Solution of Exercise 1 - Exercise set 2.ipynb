{
 "cells": [
  {
   "cell_type": "code",
   "execution_count": 3,
   "metadata": {},
   "outputs": [],
   "source": [
    "import numpy as np"
   ]
  },
  {
   "cell_type": "markdown",
   "metadata": {},
   "source": [
    "We store the nodes $X$ and weights $W$ of Gaussian quadrature formula with $5$ nodes. These nodes and weights are rescaled/translated so that they refer to the interval $[0,1]$ instead of the usual $[-1,1]$ where they are deifned,  i.e. so that $$ \\int_0^1 f(x)dx \\approx \\sum_{i=1}^5 w_i f(x_i). $$"
   ]
  },
  {
   "cell_type": "code",
   "execution_count": 64,
   "metadata": {},
   "outputs": [],
   "source": [
    "def Gauss_Data():\n",
    "    X = (np.array([-0.9061798459386641,-0.5384693101056831,0,0.5384693101056831,\n",
    "    0.9061798459386641])+1)/2\n",
    "    W = 0.5*np.array([0.23692688505618908,0.4786286704993664,128/225,\n",
    "    0.4786286704993664,0.23692688505618908])\n",
    "    return X,W"
   ]
  },
  {
   "cell_type": "markdown",
   "metadata": {},
   "source": [
    "We define the three reference basis functions $\\varphi_0$, $\\varphi_1$, $\\varphi_2$ for $X_h^2$, and their derivatives. "
   ]
  },
  {
   "cell_type": "code",
   "execution_count": 77,
   "metadata": {},
   "outputs": [],
   "source": [
    "phi = lambda x: [(x-1)*(2*x-1), 4*(1-x)*x, x*(2*x-1)]\n",
    "Dphi = lambda x: [4*x-3, 4-8*x, 4*x-1]"
   ]
  },
  {
   "cell_type": "markdown",
   "metadata": {},
   "source": [
    "Function to assemble the matrices, with \"whichOne=Mass\" if we want the Mass matrix $M$, and \"whichOne=Stiffness\" if we want the Stiffness matrix $K$."
   ]
  },
  {
   "cell_type": "code",
   "execution_count": 89,
   "metadata": {},
   "outputs": [],
   "source": [
    "def assembleMatrix(whichOne):\n",
    "    X,W = Gauss_Data()\n",
    "    res = 0\n",
    "    \n",
    "    \n",
    "    Mat = np.zeros((3,3))\n",
    "    \n",
    "    if whichOne == \"Mass\":\n",
    "                \n",
    "        for r in range(3):\n",
    "            for s in range(3):\n",
    "                for i in range(0,len(X)):\n",
    "                    cc = phi(X[i])\n",
    "                    Mat[r,s] += W[i] * cc[r] * cc[s]\n",
    "                    \n",
    "    elif whichOne == \"Stiffness\":\n",
    "                \n",
    "        for r in range(3):\n",
    "            for s in range(3):\n",
    "                for i in range(0,len(X)):\n",
    "                    cc = Dphi(X[i])\n",
    "                    Mat[r,s] += W[i] * cc[r] * cc[s]\n",
    "    \n",
    "    return Mat"
   ]
  },
  {
   "cell_type": "code",
   "execution_count": 90,
   "metadata": {},
   "outputs": [],
   "source": [
    "M = assembleMatrix(\"Mass\")\n",
    "K = assembleMatrix(\"Stiffness\")"
   ]
  },
  {
   "cell_type": "code",
   "execution_count": 91,
   "metadata": {},
   "outputs": [
    {
     "name": "stdout",
     "output_type": "stream",
     "text": [
      "[[ 4.  2. -1.]\n",
      " [ 2. 16.  2.]\n",
      " [-1.  2.  4.]]\n"
     ]
    }
   ],
   "source": [
    "print(M*30)"
   ]
  },
  {
   "cell_type": "code",
   "execution_count": 92,
   "metadata": {},
   "outputs": [
    {
     "name": "stdout",
     "output_type": "stream",
     "text": [
      "[[ 7. -8.  1.]\n",
      " [-8. 16. -8.]\n",
      " [ 1. -8.  7.]]\n"
     ]
    }
   ],
   "source": [
    "print(K*3)"
   ]
  }
 ],
 "metadata": {
  "kernelspec": {
   "display_name": "Python 3",
   "language": "python",
   "name": "python3"
  },
  "language_info": {
   "codemirror_mode": {
    "name": "ipython",
    "version": 3
   },
   "file_extension": ".py",
   "mimetype": "text/x-python",
   "name": "python",
   "nbconvert_exporter": "python",
   "pygments_lexer": "ipython3",
   "version": "3.8.3"
  }
 },
 "nbformat": 4,
 "nbformat_minor": 4
}
